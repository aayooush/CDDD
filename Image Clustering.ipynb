{
 "cells": [
  {
   "cell_type": "code",
   "execution_count": 5,
   "metadata": {},
   "outputs": [
    {
     "name": "stdout",
     "output_type": "stream",
     "text": [
      "    Status: 487 / 488\n",
      "\n",
      "    Copy: 487 / 488\r"
     ]
    }
   ],
   "source": [
    "from keras.preprocessing import image\n",
    "from keras.applications.vgg16 import VGG16\n",
    "from keras.applications.vgg16 import preprocess_input\n",
    "import numpy as np\n",
    "from sklearn.cluster import KMeans\n",
    "import os, shutil, glob, os.path\n",
    "\n",
    "from PIL import Image as pil_image\n",
    "image.LOAD_TRUNCATED_IMAGES = True \n",
    "model = VGG16(weights='imagenet', include_top=False)\n",
    "\n",
    "# Variables\n",
    "imdir = 'C:/Users/DEEPANSHU SONPAROTE/Kaggle/Crop/New_input_data/'\n",
    "targetdir = \"C:/Users/DEEPANSHU SONPAROTE/Kaggle/Crop/New_output_data/\"\n",
    "number_clusters = 3\n",
    "\n",
    "# Loop over files and get features\n",
    "filelist = glob.glob(os.path.join(imdir, '*.jpg'))\n",
    "filelist.sort()\n",
    "featurelist = []\n",
    "for i, imagepath in enumerate(filelist):\n",
    "    print(\"    Status: %s / %s\" %(i, len(filelist)), end=\"\\r\")\n",
    "    img = image.load_img(imagepath, target_size=(224, 224))\n",
    "    img_data = image.img_to_array(img)\n",
    "    img_data = np.expand_dims(img_data, axis=0)\n",
    "    img_data = preprocess_input(img_data)\n",
    "    features = np.array(model.predict(img_data))\n",
    "    featurelist.append(features.flatten())\n",
    "\n",
    "# Clustering\n",
    "kmeans = KMeans(n_clusters=number_clusters, random_state=0).fit(np.array(featurelist))\n",
    "\n",
    "# Copy images renamed by cluster \n",
    "# Check if target dir exists\n",
    "try:\n",
    "    os.makedirs(targetdir)\n",
    "except OSError:\n",
    "    pass\n",
    "# Copy with cluster name\n",
    "print(\"\\n\")\n",
    "for i, m in enumerate(kmeans.labels_):\n",
    "    print(\"    Copy: %s / %s\" %(i, len(kmeans.labels_)), end=\"\\r\")\n",
    "    shutil.copy(filelist[i], targetdir + str(m) + \"_\" + str(i) + \".jpg\")"
   ]
  },
  {
   "cell_type": "code",
   "execution_count": null,
   "metadata": {},
   "outputs": [],
   "source": []
  }
 ],
 "metadata": {
  "kernelspec": {
   "display_name": "Python 3",
   "language": "python",
   "name": "python3"
  },
  "language_info": {
   "codemirror_mode": {
    "name": "ipython",
    "version": 3
   },
   "file_extension": ".py",
   "mimetype": "text/x-python",
   "name": "python",
   "nbconvert_exporter": "python",
   "pygments_lexer": "ipython3",
   "version": "3.6.4"
  }
 },
 "nbformat": 4,
 "nbformat_minor": 2
}
