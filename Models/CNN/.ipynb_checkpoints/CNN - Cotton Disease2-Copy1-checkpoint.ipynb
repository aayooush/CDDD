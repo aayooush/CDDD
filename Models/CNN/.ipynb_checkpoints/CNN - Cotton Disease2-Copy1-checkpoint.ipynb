{
 "cells": [
  {
   "cell_type": "code",
   "execution_count": null,
   "metadata": {
    "colab": {},
    "colab_type": "code",
    "id": "h5v6xKEVyLwg"
   },
   "outputs": [],
   "source": [
    "# from google.colab import drive\n",
    "# drive.mount('/content/drive')"
   ]
  },
  {
   "cell_type": "code",
   "execution_count": null,
   "metadata": {
    "colab": {},
    "colab_type": "code",
    "id": "eYigtQsMyAW7"
   },
   "outputs": [],
   "source": [
    "#CROPP CODE FOR IMAGE TRAINING\n",
    "import matplotlib.pyplot as plt\n",
    "import cv2\n",
    "import numpy as np\n",
    "import os\n",
    "%matplotlib inline\n",
    "\n",
    "import tensorflow as tf\n",
    "from time import time\n",
    "\n",
    "from tensorflow.keras import applications\n",
    "from tensorflow.keras.preprocessing.image import ImageDataGenerator\n",
    "from tensorflow.keras import optimizers\n",
    "from tensorflow.keras.models import Sequential,Model,load_model\n",
    "from tensorflow.keras.layers import Dense, Dropout, Flatten, Conv2D, MaxPool2D,GlobalAveragePooling2D\n",
    "from tensorflow.keras.callbacks import TensorBoard, ModelCheckpoint\n",
    "from tensorflow.keras.optimizers import SGD, Adam\n",
    "\n",
    "from sklearn.model_selection import train_test_split"
   ]
  },
  {
   "cell_type": "code",
   "execution_count": null,
   "metadata": {
    "colab": {},
    "colab_type": "code",
    "id": "eYigtQsMyAW7"
   },
   "outputs": [],
   "source": [
    "tf.reset_default_graph()\n",
    "\n",
    "gs = 0\n",
    "N_CLASSES = 4   \n",
    "IMG_W = 200      # for better visibility, go with >180\n",
    "IMG_H = 200\n",
    "learning_rate = 0.001     #slow learning rate for better learning\n",
    "MODEL = './model{}'.format(time())\n",
    "NUM_EPOCH = 100\n",
    "BATCH_SIZE = 16\n",
    "LOOP = 16                # total no. of epoch = loop * 2*num_epoch\n",
    "disease ={0:'Healthy', \n",
    "          1:'Mosaic_Virus', \n",
    "          2:'rust', \n",
    "          3:'woolyaphids'}       \n",
    "def normalize(df):    \n",
    "    return (df - df.min()) / (df.max() - df.min())\n",
    "def denormalize(df,norm_data):    \n",
    "    return (norm_data * (df.max() - df.min())) + df.min()"
   ]
  },
  {
   "cell_type": "code",
   "execution_count": null,
   "metadata": {
    "colab": {},
    "colab_type": "code",
    "id": "fRSb0glyyAXF",
    "outputId": "e6ba002a-3a7c-451d-cb4f-a3313338e639"
   },
   "outputs": [],
   "source": [
    "def getdata(path):\n",
    "    ''' returns shuffled array of image file path and labels of corresponding file '''\n",
    "    woolyaphids = []\n",
    "    woolyaphids_l= []\n",
    "    Healthy = []\n",
    "    Healthy_l = []\n",
    "    Mosaic_Virus = []\n",
    "    Mosaic_Virus_l = []\n",
    "    rust = []\n",
    "    rust_l = []\n",
    "    for file in os.listdir(path):\n",
    "        name=file.split(sep='.')\n",
    "        if 'healthy' in name[0]:\n",
    "            Healthy.append(path+file)\n",
    "            Healthy_l.append(0)\n",
    "        elif 'Mosaic_Virus' in name[0]:\n",
    "            Mosaic_Virus.append(path+file)\n",
    "            Mosaic_Virus_l.append(1)\n",
    "        elif 'mosaic_virus' in name[0]:\n",
    "            Mosaic_Virus.append(path+file)\n",
    "            Mosaic_Virus_l.append(1)\n",
    "        elif 'rust' in name[0]:\n",
    "            rust.append(path+file)\n",
    "            rust_l.append(2)\n",
    "        elif 'Woolyaphids' in name[0]:\n",
    "            woolyaphids.append(path+file)\n",
    "            woolyaphids_l.append(3)\n",
    "        elif 'woolyaphids' in name[0]:\n",
    "            woolyaphids.append(path+file)\n",
    "            woolyaphids_l.append(3)\n",
    "            \n",
    "    image_list = np.hstack((Healthy, Mosaic_Virus, rust, woolyaphids ))\n",
    "    label_list = np.hstack(( Healthy_l, Mosaic_Virus_l, rust_l, woolyaphids_l))\n",
    "    temp = np.array([image_list, label_list])\n",
    "    temp = temp.transpose()\n",
    "    #shuffle whole files and labels respectively\n",
    "    np.random.shuffle(temp)\n",
    "    image_list = list(temp[:, 0])\n",
    "    label_list = list(temp[:, 1])\n",
    "    label_list = [int(i) for i in label_list]\n",
    "    print(\"Healthy plant is: \", len(Healthy))\n",
    "    print(\"Rust disease plant is: \", len(rust))\n",
    "    print(\"Mosaic_Virus plant is: \", len(Mosaic_Virus))\n",
    "    print(\"Woolyaphids plant is: \", len(Mosaic_Virus))\n",
    "    return image_list, label_list\n",
    "\n",
    "def process(path):\n",
    "    '''this function takes file paths from getdata function, \n",
    "it reads and processes image file in 4D tensor format i.e.\n",
    "[batch_size, IMG_Width, IMG_Height, channel]   for grayscale channel = 1, for RGB, channel = 3\n",
    "'''\n",
    "    a, train_labels = getdata(path)\n",
    "    img = []\n",
    "    batch=len(a)\n",
    "    for i in range(batch):\n",
    "        im = cv2.imread(a[i], cv2.IMREAD_COLOR) \n",
    "        b,g,r = cv2.split(im)\n",
    "        image = cv2.merge([r,g,b])\n",
    "        res = cv2.resize(image,(IMG_W, IMG_H), interpolation = cv2.INTER_CUBIC)\n",
    "        img.append(res)\n",
    "        if i%50 == 0: print('Processed {} of {}'.format(i, batch))\n",
    "        \n",
    "    print(\"finished\\nCount of Images is \",len(img),\"with input shape\",res.shape)\n",
    "    return np.array(img, dtype=np.int32), np.array(train_labels[:batch], dtype = np.int32)\n"
   ]
  },
  {
   "cell_type": "code",
   "execution_count": null,
   "metadata": {
    "colab": {},
    "colab_type": "code",
    "id": "JRp0-gfWyAXN"
   },
   "outputs": [],
   "source": [
    "path = '../../AllData/DNN_Data/NewData/disease/input/'\n",
    "X, Y = process(path)"
   ]
  },
  {
   "cell_type": "code",
   "execution_count": null,
   "metadata": {
    "colab": {},
    "colab_type": "code",
    "id": "zquuFjMryAXT"
   },
   "outputs": [],
   "source": [
    "pwd"
   ]
  },
  {
   "cell_type": "code",
   "execution_count": null,
   "metadata": {
    "colab": {},
    "colab_type": "code",
    "id": "8UJ09zD_yAXX"
   },
   "outputs": [],
   "source": [
    "data = []\n",
    "for i in X:\n",
    "    data.append(i.reshape(IMG_W,IMG_H,3))\n",
    "data = np.array(data)"
   ]
  },
  {
   "cell_type": "code",
   "execution_count": null,
   "metadata": {
    "colab": {},
    "colab_type": "code",
    "id": "0sFxxRhTyAXb"
   },
   "outputs": [],
   "source": [
    "print('shape of whole data and their labels are as follows',data.shape,'and',Y.shape,\"respectively\")"
   ]
  },
  {
   "cell_type": "code",
   "execution_count": null,
   "metadata": {
    "colab": {},
    "colab_type": "code",
    "id": "yChc-aNpyAXd"
   },
   "outputs": [],
   "source": [
    "# for i in range(170, 180):\n",
    "#     j =data[i].reshape(IMG_W,IMG_H,3)\n",
    "#     print(\"actually it is:\",disease[Y[i]])\n",
    "#     plt.imshow(j)\n",
    "#     plt.show()  \n",
    "#this cell is used to ensure proper labelling of image"
   ]
  },
  {
   "cell_type": "code",
   "execution_count": null,
   "metadata": {
    "colab": {},
    "colab_type": "code",
    "id": "OqtU3PZuyAXf"
   },
   "outputs": [],
   "source": [
    "X_train, X_val, Y_train, Y_val = train_test_split(data ,Y, test_size=0.3, random_state=1)"
   ]
  },
  {
   "cell_type": "code",
   "execution_count": null,
   "metadata": {
    "colab": {},
    "colab_type": "code",
    "id": "8GrZo7AGyAXh"
   },
   "outputs": [],
   "source": [
    "X_tr = []\n",
    "for i in X_train:\n",
    "    X_tr.append(normalize(i))\n",
    "X_tr = np.array(X_tr)\n",
    "\n",
    "X_v = []\n",
    "for i in X_val:\n",
    "    X_v.append(normalize(i))\n",
    "X_v = np.array(X_v)"
   ]
  },
  {
   "cell_type": "code",
   "execution_count": null,
   "metadata": {},
   "outputs": [],
   "source": [
    "from tensorflow.keras.utils import to_categorical\n",
    "Y_tr = to_categorical(Y_train)"
   ]
  },
  {
   "cell_type": "code",
   "execution_count": null,
   "metadata": {
    "colab": {},
    "colab_type": "code",
    "id": "6aV9QxY1yAXi"
   },
   "outputs": [],
   "source": []
  },
  {
   "cell_type": "code",
   "execution_count": null,
   "metadata": {},
   "outputs": [],
   "source": [
    "base_model = applications.resnet50.ResNet50(weights= None, include_top=False, input_shape= (IMG_H,IMG_W,3))\n",
    "\n",
    "x = base_model.output\n",
    "x = GlobalAveragePooling2D()(x)\n",
    "x = Dropout(0.5)(x)\n",
    "predictions = Dense(N_CLASSES, activation= 'softmax')(x)\n",
    "model = Model(inputs = base_model.input, outputs = predictions)\n",
    "\n",
    "\n",
    "# sgd = SGD(lr=lrate, momentum=0.9, decay=decay, nesterov=False)\n",
    "adam = Adam(lr=0.01)\n",
    "model.compile(optimizer= adam, loss='categorical_crossentropy', metrics=['accuracy'])\n",
    "model.summary()"
   ]
  },
  {
   "cell_type": "code",
   "execution_count": null,
   "metadata": {},
   "outputs": [],
   "source": [
    "tensorboard = TensorBoard(log_dir=\"logsRN/{}\".format(time()), \n",
    "                          histogram_freq=0, \n",
    "                          write_graph=True, \n",
    "                          write_grads=False, \n",
    "                          write_images=False, \n",
    "                          embeddings_freq=0, \n",
    "                          embeddings_layer_names=None, \n",
    "                          embeddings_metadata=None, \n",
    "                          embeddings_data=None, \n",
    "                          update_freq='epoch')\n",
    "filepath = \"cp/RNmodels-improvement-{epoch:02d}-{val_acc:.4f}.h5\"\n",
    "checkpoint = ModelCheckpoint(filepath, monitor='val_acc', verbose=1, save_weights_only=False, save_best_only=True, mode='max')\n",
    "\n",
    "\n",
    "model.fit(X_tr, Y_tr, epochs = 100, callbacks=[tensorboard, checkpoint])"
   ]
  },
  {
   "cell_type": "code",
   "execution_count": null,
   "metadata": {},
   "outputs": [],
   "source": [
    "from tensorflow.keras.utils import plot_model\n",
    "from tensorflow.python.keras.utils.vis_utils import model_to_dot\n",
    "\n",
    "plot_model(model, to_file='CNN.png')"
   ]
  },
  {
   "cell_type": "code",
   "execution_count": null,
   "metadata": {},
   "outputs": [],
   "source": [
    "model.save('RN-FinalAttempt{}.h5'.format(time()))"
   ]
  },
  {
   "cell_type": "code",
   "execution_count": null,
   "metadata": {
    "colab": {},
    "colab_type": "code",
    "id": "wOHTN-b0yAXo"
   },
   "outputs": [],
   "source": [
    "preds=model.predict(X_v)"
   ]
  },
  {
   "cell_type": "code",
   "execution_count": null,
   "metadata": {},
   "outputs": [],
   "source": [
    "fp = []\n",
    "for i in preds:\n",
    "    fp.append(list(i).index(max(i)))"
   ]
  },
  {
   "cell_type": "code",
   "execution_count": null,
   "metadata": {
    "colab": {},
    "colab_type": "code",
    "id": "5Jnjx-kWyAXr"
   },
   "outputs": [],
   "source": [
    "pred = np.asarray(fp)"
   ]
  },
  {
   "cell_type": "code",
   "execution_count": null,
   "metadata": {
    "colab": {},
    "colab_type": "code",
    "id": "BbEeSKdTyAXs"
   },
   "outputs": [],
   "source": [
    "for i in range(17,27):\n",
    "    j = X_v[i]\n",
    "    print(\"prediction is:\", disease[pred[i]],\"\\nactually it is:\",disease[Y_val[i]])\n",
    "    plt.imshow(j)\n",
    "    plt.show()   \n",
    "cor = 0\n",
    "for i in range(len(pred)):\n",
    "    if disease[pred[i]]==disease[Y_val[i]]:\n",
    "        cor = cor + 1\n",
    "    else:\n",
    "        print(disease[pred[i]], disease[Y_val[i]])\n",
    "        \n",
    "print(cor)\n"
   ]
  },
  {
   "cell_type": "code",
   "execution_count": null,
   "metadata": {
    "colab": {},
    "colab_type": "code",
    "id": "VRxGXWzGyAXu"
   },
   "outputs": [],
   "source": [
    "f = pred == Y_val\n",
    "print(len(f))\n",
    "T = len(f[f == True])\n",
    "F = len(f[f == False])\n",
    "print(T, F, T+F)\n",
    "error = F/(T+F) * 100\n",
    "print(error)"
   ]
  },
  {
   "cell_type": "code",
   "execution_count": null,
   "metadata": {},
   "outputs": [],
   "source": [
    "!ls"
   ]
  },
  {
   "cell_type": "code",
   "execution_count": null,
   "metadata": {},
   "outputs": [],
   "source": [
    "import os\n",
    "import cv2\n",
    "import numpy as np\n",
    "\n",
    "IMG_W = 200\n",
    "IMG_H = 200\n",
    "\n",
    "disease ={0:'Healthy', \n",
    "          1:'Mosaic_Virus', \n",
    "          2:'rust', \n",
    "          3:'woolyaphids'} \n",
    "\n",
    "def normalize(df):    \n",
    "    return (df - df.min()) / (df.max() - df.min())\n",
    "\n",
    "def getdata(path):\n",
    "    ''' returns shuffled array of image file path and labels of corresponding file '''\n",
    "    img = [os.path.join(path,name) for name in os.listdir(path) if name[0] != '.']\n",
    "    image = np.array(img)\n",
    "    return image\n",
    "\n",
    "\n",
    "def process(path):\n",
    "    a = getdata(path)\n",
    "    img = []\n",
    "    batch=len(a)\n",
    "    for i in range(batch):\n",
    "        im = cv2.imread(a[i], cv2.IMREAD_COLOR) \n",
    "        b,g,r = cv2.split(im)\n",
    "        image = cv2.merge([r,g,b])\n",
    "        res = cv2.resize(image,(IMG_W, IMG_H), interpolation = cv2.INTER_CUBIC)\n",
    "        img.append(res)\n",
    "        print('Processed {} of {}'.format(i, batch))\n",
    "        \n",
    "    print(\"finished\\nCount of Images is \",len(img),\"with input shape\",res.shape)\n",
    "    return np.array(img, dtype=np.int32)\n",
    "\n"
   ]
  },
  {
   "cell_type": "code",
   "execution_count": null,
   "metadata": {},
   "outputs": [],
   "source": [
    "path = 'CNN_Data/Test/'\n",
    "images = process(path)"
   ]
  },
  {
   "cell_type": "code",
   "execution_count": null,
   "metadata": {},
   "outputs": [],
   "source": [
    "input_image = []\n",
    "for i in images:\n",
    "    input_image.append(normalize(i))\n",
    "input_image = np.array(input_image)"
   ]
  },
  {
   "cell_type": "code",
   "execution_count": null,
   "metadata": {
    "colab": {},
    "colab_type": "code",
    "id": "l_Rb5IvzyAXx"
   },
   "outputs": [],
   "source": [
    "from tensorflow.keras.models import load_model\n",
    "import numpy as np\n",
    "\n",
    "model = load_model('CNN-FinalAttempt1572678003.2291331.h5')\n",
    "\n",
    "model.compile(loss=\"categorical_crossentropy\", optimizer='sgd', metrics=[\"accuracy\"])\n",
    "\n",
    "preds = model.predict(input_image)\n",
    "\n",
    "fp = []\n",
    "for i in preds:\n",
    "    fp.append(list(i).index(max(i)))"
   ]
  },
  {
   "cell_type": "code",
   "execution_count": null,
   "metadata": {},
   "outputs": [],
   "source": [
    "import matplotlib.pyplot as plt\n",
    "for i in range(len(os.listdir(path))-1):\n",
    "    j = images[i]\n",
    "    print(\"prediction is:\", disease[fp[i]])\n",
    "    plt.imshow(j)\n",
    "    plt.show()   \n",
    "# cor = 0\n",
    "# for i in range(len(pred)):\n",
    "#     if disease[pred[i]]==disease[Y_val[i]]:\n",
    "#         cor = cor + 1\n",
    "        \n",
    "# print(cor)"
   ]
  },
  {
   "cell_type": "code",
   "execution_count": null,
   "metadata": {},
   "outputs": [],
   "source": [
    "import os\n",
    "import cv2\n",
    "import numpy as np\n",
    "import matplotlib.pyplot as plt\n",
    "from tensorflow.keras.models import load_model\n",
    "\n",
    "IMG_W = 200\n",
    "IMG_H = 200\n",
    "disease ={0:'Healthy', \n",
    "          1:'Mosaic_Virus', \n",
    "          2:'rust', \n",
    "          3:'woolyaphids'} \n",
    "\n",
    "def normalize(df):    \n",
    "    return (df - df.min()) / (df.max() - df.min())\n",
    "\n",
    "def process(path):\n",
    "    im = cv2.imread(path, cv2.IMREAD_COLOR) \n",
    "    b,g,r = cv2.split(im)\n",
    "    image = cv2.merge([r,g,b])\n",
    "    res = cv2.resize(image,(IMG_W, IMG_H), interpolation = cv2.INTER_CUBIC)\n",
    "    return np.array(res, dtype=np.int32)\n",
    "\n",
    "path = '../../AllData/CNN_Data/Test/rust5.jpg'\n",
    "\n",
    "img = process(path)\n",
    "\n",
    "input_image = []\n",
    "input_image.append(normalize(img))\n",
    "input_image = np.array(input_image)\n",
    "\n",
    "model = load_model('CNN-FinalAttempt1572678003.2291331.h5')\n",
    "model.compile(loss=\"categorical_crossentropy\", optimizer='sgd', metrics=[\"accuracy\"])\n",
    "preds = model.predict(input_image)\n",
    "\n",
    "fp = []\n",
    "for i in preds:\n",
    "    fp.append(list(i).index(max(i)))\n",
    "\n",
    "f = list(preds).index(max(preds))\n",
    "    \n",
    "    \n",
    "print(\"prediction is:\", disease[f])\n",
    "plt.imshow(img)\n",
    "plt.show()   "
   ]
  },
  {
   "cell_type": "code",
   "execution_count": null,
   "metadata": {},
   "outputs": [],
   "source": [
    "preds"
   ]
  },
  {
   "cell_type": "code",
   "execution_count": null,
   "metadata": {},
   "outputs": [],
   "source": []
  },
  {
   "cell_type": "code",
   "execution_count": null,
   "metadata": {},
   "outputs": [],
   "source": []
  },
  {
   "cell_type": "code",
   "execution_count": null,
   "metadata": {},
   "outputs": [],
   "source": [
    "!conda install tensorflow==2.0.0"
   ]
  },
  {
   "cell_type": "code",
   "execution_count": null,
   "metadata": {},
   "outputs": [],
   "source": [
    "fp"
   ]
  },
  {
   "cell_type": "code",
   "execution_count": null,
   "metadata": {},
   "outputs": [],
   "source": []
  },
  {
   "cell_type": "code",
   "execution_count": null,
   "metadata": {},
   "outputs": [],
   "source": []
  }
 ],
 "metadata": {
  "colab": {
   "name": "Generator.ipynb",
   "provenance": []
  },
  "kernelspec": {
   "display_name": "Python 3",
   "language": "python",
   "name": "python3"
  },
  "language_info": {
   "codemirror_mode": {
    "name": "ipython",
    "version": 3
   },
   "file_extension": ".py",
   "mimetype": "text/x-python",
   "name": "python",
   "nbconvert_exporter": "python",
   "pygments_lexer": "ipython3",
   "version": "3.7.3"
  }
 },
 "nbformat": 4,
 "nbformat_minor": 4
}
