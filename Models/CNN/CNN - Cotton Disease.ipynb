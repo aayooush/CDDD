{
 "cells": [
  {
   "cell_type": "code",
   "execution_count": null,
   "metadata": {
    "colab": {
     "base_uri": "https://localhost:8080/",
     "height": 51
    },
    "colab_type": "code",
    "executionInfo": {
     "elapsed": 779,
     "status": "ok",
     "timestamp": 1570950736183,
     "user": {
      "displayName": "Aayush Singh",
      "photoUrl": "https://lh3.googleusercontent.com/a-/AAuE7mCvX26A-zr6IC5w3o13VqG4uvMmZRioVIg7qMcuYA=s64",
      "userId": "06906145096706033527"
     },
     "user_tz": -330
    },
    "id": "bSiZz-ACxdtz",
    "outputId": "28b632b6-1734-414f-c44f-d53474176e2f"
   },
   "outputs": [],
   "source": [
    "# %load_ext tensorboard"
   ]
  },
  {
   "cell_type": "code",
   "execution_count": null,
   "metadata": {
    "colab": {
     "base_uri": "https://localhost:8080/",
     "height": 34
    },
    "colab_type": "code",
    "executionInfo": {
     "elapsed": 3447,
     "status": "ok",
     "timestamp": 1570949456294,
     "user": {
      "displayName": "Aayush Singh",
      "photoUrl": "https://lh3.googleusercontent.com/a-/AAuE7mCvX26A-zr6IC5w3o13VqG4uvMmZRioVIg7qMcuYA=s64",
      "userId": "06906145096706033527"
     },
     "user_tz": -330
    },
    "id": "k5ePKP4jIkOv",
    "outputId": "a39980fe-9135-4ba8-cb2c-4f1837024507"
   },
   "outputs": [],
   "source": [
    "# path = '/content/drive/My Drive/CROPP/input'\n",
    "\n",
    "# from google.colab import drive                \n",
    "# drive.mount('/content/drive')                \n",
    "\n"
   ]
  },
  {
   "cell_type": "code",
   "execution_count": null,
   "metadata": {
    "colab": {
     "base_uri": "https://localhost:8080/",
     "height": 34
    },
    "colab_type": "code",
    "executionInfo": {
     "elapsed": 9986,
     "status": "ok",
     "timestamp": 1570949463047,
     "user": {
      "displayName": "Aayush Singh",
      "photoUrl": "https://lh3.googleusercontent.com/a-/AAuE7mCvX26A-zr6IC5w3o13VqG4uvMmZRioVIg7qMcuYA=s64",
      "userId": "06906145096706033527"
     },
     "user_tz": -330
    },
    "id": "SmQ4AVb9JR4o",
    "outputId": "4e1051fc-1f33-4085-d1b3-ee1f20dc5d72"
   },
   "outputs": [],
   "source": [
    "# # To check working of above thing\n",
    "# !ls '/content/drive/My Drive/B.E PROJECT/CNN CROP/data/disease/input'"
   ]
  },
  {
   "cell_type": "code",
   "execution_count": 1,
   "metadata": {},
   "outputs": [],
   "source": [
    "import os\n",
    "os.environ[\"KMP_DUPLICATE_LIB_OK\"]=\"TRUE\""
   ]
  },
  {
   "cell_type": "code",
   "execution_count": 2,
   "metadata": {
    "colab": {
     "base_uri": "https://localhost:8080/",
     "height": 170
    },
    "colab_type": "code",
    "executionInfo": {
     "elapsed": 9804,
     "status": "ok",
     "timestamp": 1570949463048,
     "user": {
      "displayName": "Aayush Singh",
      "photoUrl": "https://lh3.googleusercontent.com/a-/AAuE7mCvX26A-zr6IC5w3o13VqG4uvMmZRioVIg7qMcuYA=s64",
      "userId": "06906145096706033527"
     },
     "user_tz": -330
    },
    "id": "_FVRKSxKJaWc",
    "outputId": "d06f041b-4540-472c-82d6-487b48eb5dfb"
   },
   "outputs": [
    {
     "name": "stdout",
     "output_type": "stream",
     "text": [
      "Total Healthy :  115\n",
      "Total Mosaic Virus :  111\n",
      "Total Rust :  96\n",
      "Total Wooly aphids :  110\n",
      "**********************************************\n",
      "Validation Healthy :  40\n",
      "Validation Mosaic Virus :  40\n",
      "Validation Rust :  40\n",
      "Validation Woolyphids :  40\n"
     ]
    }
   ],
   "source": [
    "import os\n",
    "from tensorflow.keras.preprocessing.image import ImageDataGenerator\n",
    "\n",
    "base_dir = '../../AllData/CNN_Data/'\n",
    "\n",
    "train_dir = os.path.join( base_dir, 'Training')\n",
    "validation_dir = os.path.join( base_dir, 'Validation')\n",
    "\n",
    "\n",
    "train_healthy_dir = os.path.join(train_dir, 'Healthy') \n",
    "train_mosaic_dir = os.path.join(train_dir, 'Mosaic_Virus') \n",
    "train_rust_dir = os.path.join(train_dir, 'Rust') \n",
    "train_woolyaphids_dir = os.path.join(train_dir, 'Wooly_aphids') \n",
    "\n",
    "print('Total Healthy : ', len(os.listdir(train_healthy_dir)))\n",
    "print('Total Mosaic Virus : ', len(os.listdir(train_mosaic_dir)))\n",
    "print('Total Rust : ', len(os.listdir(train_rust_dir)))\n",
    "print('Total Wooly aphids : ', len(os.listdir(train_woolyaphids_dir)))\n",
    "\n",
    "print('**********************************************')\n",
    "\n",
    "validation_healthy_dir = os.path.join(validation_dir, 'Healthy') \n",
    "validation_mosaic_dir = os.path.join(validation_dir, 'Mosaic_Virus') \n",
    "validation_rust_dir = os.path.join(validation_dir, 'Rust') \n",
    "validation_woolyaphids_dir = os.path.join(validation_dir, 'Wooly_aphids') \n",
    "\n",
    "print('Validation Healthy : ', len(os.listdir(validation_healthy_dir)))\n",
    "print('Validation Mosaic Virus : ', len(os.listdir(validation_mosaic_dir)))\n",
    "print('Validation Rust : ', len(os.listdir(validation_rust_dir)))\n",
    "print('Validation Woolyphids : ', len(os.listdir(validation_woolyaphids_dir)))\n",
    "\n",
    "\n",
    "healthy_files = os.listdir(train_healthy_dir)\n",
    "mosaic_files = os.listdir(train_mosaic_dir)\n",
    "rust_files = os.listdir(train_rust_dir)\n",
    "woolyphids_files = os.listdir(train_woolyaphids_dir)"
   ]
  },
  {
   "cell_type": "code",
   "execution_count": 3,
   "metadata": {
    "colab": {
     "base_uri": "https://localhost:8080/",
     "height": 1000
    },
    "colab_type": "code",
    "executionInfo": {
     "elapsed": 15785,
     "status": "ok",
     "timestamp": 1570949469165,
     "user": {
      "displayName": "Aayush Singh",
      "photoUrl": "https://lh3.googleusercontent.com/a-/AAuE7mCvX26A-zr6IC5w3o13VqG4uvMmZRioVIg7qMcuYA=s64",
      "userId": "06906145096706033527"
     },
     "user_tz": -330
    },
    "id": "J5qtAxl6LWwB",
    "outputId": "5e435fb3-0de3-4dec-8060-f473a5de4d25"
   },
   "outputs": [
    {
     "name": "stdout",
     "output_type": "stream",
     "text": [
      "../../AllData/CNN_Data/Training/Healthy/healthy1212.jpg\n"
     ]
    },
    {
     "data": {
      "text/plain": [
       "<Figure size 640x480 with 1 Axes>"
      ]
     },
     "metadata": {},
     "output_type": "display_data"
    },
    {
     "name": "stdout",
     "output_type": "stream",
     "text": [
      "../../AllData/CNN_Data/Training/Healthy/healthy137.jpg\n"
     ]
    },
    {
     "data": {
      "text/plain": [
       "<Figure size 640x480 with 1 Axes>"
      ]
     },
     "metadata": {},
     "output_type": "display_data"
    },
    {
     "name": "stdout",
     "output_type": "stream",
     "text": [
      "../../AllData/CNN_Data/Training/Mosaic_Virus/mosaic_virus689.jpg\n"
     ]
    },
    {
     "data": {
      "text/plain": [
       "<Figure size 640x480 with 1 Axes>"
      ]
     },
     "metadata": {},
     "output_type": "display_data"
    },
    {
     "name": "stdout",
     "output_type": "stream",
     "text": [
      "../../AllData/CNN_Data/Training/Mosaic_Virus/mosaic_virus474.jpg\n"
     ]
    },
    {
     "data": {
      "text/plain": [
       "<Figure size 640x480 with 1 Axes>"
      ]
     },
     "metadata": {},
     "output_type": "display_data"
    },
    {
     "name": "stdout",
     "output_type": "stream",
     "text": [
      "../../AllData/CNN_Data/Training/Rust/rust103.jpg\n"
     ]
    },
    {
     "data": {
      "text/plain": [
       "<Figure size 640x480 with 1 Axes>"
      ]
     },
     "metadata": {},
     "output_type": "display_data"
    },
    {
     "name": "stdout",
     "output_type": "stream",
     "text": [
      "../../AllData/CNN_Data/Training/Rust/rust895.jpg\n"
     ]
    },
    {
     "data": {
      "text/plain": [
       "<Figure size 640x480 with 1 Axes>"
      ]
     },
     "metadata": {},
     "output_type": "display_data"
    },
    {
     "name": "stdout",
     "output_type": "stream",
     "text": [
      "../../AllData/CNN_Data/Training/Wooly_aphids/woolyaphids658.jpg\n"
     ]
    },
    {
     "data": {
      "text/plain": [
       "<Figure size 640x480 with 1 Axes>"
      ]
     },
     "metadata": {},
     "output_type": "display_data"
    },
    {
     "name": "stdout",
     "output_type": "stream",
     "text": [
      "../../AllData/CNN_Data/Training/Wooly_aphids/woolyaphids894.jpg\n"
     ]
    },
    {
     "data": {
      "text/plain": [
       "<Figure size 640x480 with 1 Axes>"
      ]
     },
     "metadata": {},
     "output_type": "display_data"
    }
   ],
   "source": [
    "import matplotlib.pyplot as plt\n",
    "import matplotlib.image as mpimg\n",
    "\n",
    "imgno = 2\n",
    "\n",
    "next_healthy = [os.path.join(train_healthy_dir, fname) for fname in healthy_files[:imgno]]\n",
    "\n",
    "next_mosaic = [os.path.join(train_mosaic_dir, fname) for fname in mosaic_files[:imgno]]\n",
    "\n",
    "next_rust = [os.path.join(train_rust_dir, fname) for fname in rust_files[:imgno]]\n",
    "\n",
    "next_woolyphids = [os.path.join(train_woolyaphids_dir, fname) for fname in woolyphids_files[:imgno]]\n",
    "                   \n",
    "for i, img_path in enumerate(next_healthy+next_mosaic+next_rust+next_woolyphids):\n",
    "    print(img_path)\n",
    "    img = mpimg.imread(img_path)\n",
    "    plt.imshow(img)\n",
    "    plt.axis('Off')\n",
    "    plt.show()"
   ]
  },
  {
   "cell_type": "code",
   "execution_count": 4,
   "metadata": {
    "colab": {
     "base_uri": "https://localhost:8080/",
     "height": 85
    },
    "colab_type": "code",
    "executionInfo": {
     "elapsed": 15534,
     "status": "ok",
     "timestamp": 1570949469166,
     "user": {
      "displayName": "Aayush Singh",
      "photoUrl": "https://lh3.googleusercontent.com/a-/AAuE7mCvX26A-zr6IC5w3o13VqG4uvMmZRioVIg7qMcuYA=s64",
      "userId": "06906145096706033527"
     },
     "user_tz": -330
    },
    "id": "KRUC13nQLq8N",
    "outputId": "e1ec3ceb-c616-4bfc-e16f-992bc4d7d284"
   },
   "outputs": [],
   "source": [
    "import tensorflow as tf\n",
    "import keras_preprocessing\n",
    "from keras_preprocessing import image\n",
    "from keras_preprocessing.image import ImageDataGenerator\n",
    "from tensorflow.keras.callbacks import TensorBoard\n",
    "from time import time"
   ]
  },
  {
   "cell_type": "code",
   "execution_count": 5,
   "metadata": {
    "colab": {
     "base_uri": "https://localhost:8080/",
     "height": 85
    },
    "colab_type": "code",
    "executionInfo": {
     "elapsed": 15534,
     "status": "ok",
     "timestamp": 1570949469166,
     "user": {
      "displayName": "Aayush Singh",
      "photoUrl": "https://lh3.googleusercontent.com/a-/AAuE7mCvX26A-zr6IC5w3o13VqG4uvMmZRioVIg7qMcuYA=s64",
      "userId": "06906145096706033527"
     },
     "user_tz": -330
    },
    "id": "KRUC13nQLq8N",
    "outputId": "e1ec3ceb-c616-4bfc-e16f-992bc4d7d284"
   },
   "outputs": [
    {
     "name": "stdout",
     "output_type": "stream",
     "text": [
      "In Training\n",
      "Found 432 images belonging to 4 classes.\n",
      "In Validation\n",
      "Found 160 images belonging to 4 classes.\n"
     ]
    }
   ],
   "source": [
    "base_dir = '../../AllData/CNN_Data/'\n",
    "\n",
    "TRAINING_DIR = os.path.join(base_dir, 'Training')\n",
    "training_datagen = ImageDataGenerator(\n",
    "                      rescale = 1./255,\n",
    "                      rotation_range=40,\n",
    "                      width_shift_range=0.2,\n",
    "                      height_shift_range=0.2,\n",
    "                      shear_range=0.2,\n",
    "                      zoom_range=0.2,\n",
    "                      horizontal_flip=True,\n",
    "                      fill_mode='nearest')\n",
    "\n",
    "VALIDATION_DIR = os.path.join(base_dir, 'Validation')\n",
    "validation_datagen = ImageDataGenerator(rescale = 1./255)\n",
    "\n",
    "print(\"In Training\")\n",
    "train_generator = training_datagen.flow_from_directory(\n",
    "                    TRAINING_DIR,\n",
    "                    target_size=(300,300),\n",
    "                    class_mode='categorical')\n",
    "\n",
    "print(\"In Validation\")\n",
    "validation_generator = validation_datagen.flow_from_directory(\n",
    "                    VALIDATION_DIR,\n",
    "                    target_size=(300,300),\n",
    "                    class_mode='categorical')"
   ]
  },
  {
   "cell_type": "code",
   "execution_count": 6,
   "metadata": {},
   "outputs": [],
   "source": [
    "# from tensorflow.keras.models import Sequential\n",
    "# from tensorflow.keras.layers import Dense, Dropout, Flatten\n",
    "# from tensorflow.keras.layers import Conv2D, MaxPooling2D, BatchNormalization\n",
    "\n",
    "# testmodel = Sequential()\n",
    "# testmodel.add(Conv2D(256, kernel_size=(3, 3), activation='relu', input_shape=(300, 300, 3)))\n",
    "# testmodel.add(BatchNormalization())\n",
    "\n",
    "# testmodel.add(Conv2D(256, kernel_size=(3, 3), activation='relu'))\n",
    "# testmodel.add(BatchNormalization())\n",
    "# testmodel.add(MaxPooling2D(pool_size=(2, 2)))\n",
    "# testmodel.add(Dropout(0.25))\n",
    "\n",
    "# testmodel.add(Conv2D(512, kernel_size=(3, 3), activation='relu'))\n",
    "# testmodel.add(BatchNormalization())\n",
    "# testmodel.add(Dropout(0.25))\n",
    "\n",
    "# testmodel.add(Conv2D(1024, kernel_size=(3, 3), activation='relu'))\n",
    "# testmodel.add(BatchNormalization())\n",
    "# testmodel.add(MaxPooling2D(pool_size=(2, 2)))\n",
    "# testmodel.add(Dropout(0.25))\n",
    "\n",
    "# testmodel.add(Flatten())\n",
    "\n",
    "# testmodel.add(Dense(2048, activation='relu'))\n",
    "# testmodel.add(BatchNormalization())\n",
    "# testmodel.add(Dropout(0.5))\n",
    "\n",
    "# testmodel.add(Dense(1024, activation='relu'))\n",
    "# testmodel.add(BatchNormalization())\n",
    "# testmodel.add(Dropout(0.5))\n",
    "\n",
    "# testmodel.add(Dense(4, activation='softmax'))\n",
    "\n",
    "# testmodel.compile(loss=tf.keras.losses.categorical_crossentropy,\n",
    "#               optimizer=tf.keras.optimizers.Adam(),\n",
    "#               metrics=['accuracy'])\n",
    "\n",
    "# tensorboard = TensorBoard(log_dir=\"./logs/TEST/{}\".format(time()), \n",
    "#                           histogram_freq=0, \n",
    "#                           write_graph=True, \n",
    "#                           write_grads=False, \n",
    "#                           write_images=False, \n",
    "#                           embeddings_freq=0, \n",
    "#                           embeddings_layer_names=None, \n",
    "#                           embeddings_metadata=None, \n",
    "#                           embeddings_data=None, \n",
    "#                           update_freq='epoch')\n",
    "\n",
    "# history = testmodel.fit_generator(train_generator, \n",
    "#                                 epochs=5, verbose = 1,\n",
    "#                                 validation_data = validation_generator,\n",
    "#                                 callbacks = [tensorboard])\n",
    "\n",
    "# model.save(\"cotton_disease-TEST.h5\")"
   ]
  },
  {
   "cell_type": "code",
   "execution_count": null,
   "metadata": {},
   "outputs": [
    {
     "name": "stderr",
     "output_type": "stream",
     "text": [
      "WARNING: Logging before flag parsing goes to stderr.\n",
      "W1101 10:45:09.233070 4397088064 deprecation.py:506] From /Library/Frameworks/Python.framework/Versions/3.7/lib/python3.7/site-packages/tensorflow/python/ops/init_ops.py:1251: calling VarianceScaling.__init__ (from tensorflow.python.ops.init_ops) with dtype is deprecated and will be removed in a future version.\n",
      "Instructions for updating:\n",
      "Call initializer instance with the dtype argument instead of passing it to the constructor\n"
     ]
    },
    {
     "name": "stdout",
     "output_type": "stream",
     "text": [
      "Model: \"sequential\"\n",
      "_________________________________________________________________\n",
      "Layer (type)                 Output Shape              Param #   \n",
      "=================================================================\n",
      "conv2d (Conv2D)              (None, 298, 298, 64)      1792      \n",
      "_________________________________________________________________\n",
      "batch_normalization (BatchNo (None, 298, 298, 64)      256       \n",
      "_________________________________________________________________\n",
      "max_pooling2d (MaxPooling2D) (None, 149, 149, 64)      0         \n",
      "_________________________________________________________________\n",
      "conv2d_1 (Conv2D)            (None, 147, 147, 64)      36928     \n",
      "_________________________________________________________________\n",
      "batch_normalization_1 (Batch (None, 147, 147, 64)      256       \n",
      "_________________________________________________________________\n",
      "max_pooling2d_1 (MaxPooling2 (None, 73, 73, 64)        0         \n",
      "_________________________________________________________________\n",
      "dropout (Dropout)            (None, 73, 73, 64)        0         \n",
      "_________________________________________________________________\n",
      "conv2d_2 (Conv2D)            (None, 71, 71, 128)       73856     \n",
      "_________________________________________________________________\n",
      "batch_normalization_2 (Batch (None, 71, 71, 128)       512       \n",
      "_________________________________________________________________\n",
      "max_pooling2d_2 (MaxPooling2 (None, 35, 35, 128)       0         \n",
      "_________________________________________________________________\n",
      "conv2d_3 (Conv2D)            (None, 33, 33, 128)       147584    \n",
      "_________________________________________________________________\n",
      "batch_normalization_3 (Batch (None, 33, 33, 128)       512       \n",
      "_________________________________________________________________\n",
      "max_pooling2d_3 (MaxPooling2 (None, 16, 16, 128)       0         \n",
      "_________________________________________________________________\n",
      "dropout_1 (Dropout)          (None, 16, 16, 128)       0         \n",
      "_________________________________________________________________\n",
      "conv2d_4 (Conv2D)            (None, 14, 14, 128)       147584    \n",
      "_________________________________________________________________\n",
      "max_pooling2d_4 (MaxPooling2 (None, 7, 7, 128)         0         \n",
      "_________________________________________________________________\n",
      "flatten (Flatten)            (None, 6272)              0         \n",
      "_________________________________________________________________\n",
      "dropout_2 (Dropout)          (None, 6272)              0         \n",
      "_________________________________________________________________\n",
      "dense (Dense)                (None, 128)               802944    \n",
      "_________________________________________________________________\n",
      "batch_normalization_4 (Batch (None, 128)               512       \n",
      "_________________________________________________________________\n",
      "dropout_3 (Dropout)          (None, 128)               0         \n",
      "_________________________________________________________________\n",
      "dense_1 (Dense)              (None, 4)                 516       \n",
      "=================================================================\n",
      "Total params: 1,213,252\n",
      "Trainable params: 1,212,228\n",
      "Non-trainable params: 1,024\n",
      "_________________________________________________________________\n",
      "Epoch 1/10\n",
      "14/14 [==============================] - 232s 17s/step - loss: 1.2362 - acc: 0.6042 - val_loss: 1.5297 - val_acc: 0.3500\n",
      "Epoch 2/10\n",
      "14/14 [==============================] - 219s 16s/step - loss: 0.8608 - acc: 0.7245 - val_loss: 1.6073 - val_acc: 0.3000\n",
      "Epoch 3/10\n",
      "14/14 [==============================] - 197s 14s/step - loss: 0.6831 - acc: 0.7685 - val_loss: 1.6911 - val_acc: 0.3562\n",
      "Epoch 4/10\n",
      "14/14 [==============================] - 161s 11s/step - loss: 0.6237 - acc: 0.8009 - val_loss: 2.8737 - val_acc: 0.2500\n",
      "Epoch 5/10\n",
      " 5/14 [=========>....................] - ETA: 1:25 - loss: 0.6686 - acc: 0.7361"
     ]
    }
   ],
   "source": [
    "model = tf.keras.models.Sequential([\n",
    "    # ILayer\n",
    "    tf.keras.layers.Conv2D(64, (3,3), activation='relu', input_shape=(300, 300, 3)),\n",
    "    tf.keras.layers.BatchNormalization(),\n",
    "    tf.keras.layers.MaxPooling2D(2, 2),\n",
    "\n",
    "    # HLayer 1\n",
    "    tf.keras.layers.Conv2D(64, (3,3), activation='relu'),\n",
    "    tf.keras.layers.BatchNormalization(),\n",
    "    tf.keras.layers.MaxPooling2D(2,2),\n",
    "    tf.keras.layers.Dropout(0.3),\n",
    "  \n",
    "    tf.keras.layers.Conv2D(128, (3,3), activation='relu'),\n",
    "    tf.keras.layers.BatchNormalization(),\n",
    "    tf.keras.layers.MaxPooling2D(2,2),\n",
    "    \n",
    "    tf.keras.layers.Conv2D(128, (3,3), activation='relu'),\n",
    "    tf.keras.layers.BatchNormalization(),\n",
    "    tf.keras.layers.MaxPooling2D(2,2),\n",
    "    tf.keras.layers.Dropout(0.3),\n",
    "    \n",
    "    tf.keras.layers.Conv2D(128, (3,3), activation='relu'),\n",
    "    tf.keras.layers.MaxPooling2D(2,2),\n",
    "    \n",
    "    tf.keras.layers.Flatten(),\n",
    "    tf.keras.layers.Dropout(0.5),\n",
    "\n",
    "    \n",
    "    # 512 neuron hidden layer\n",
    "    tf.keras.layers.Dense(128, activation='relu'),\n",
    "    tf.keras.layers.BatchNormalization(),\n",
    "    tf.keras.layers.Dropout(0.5),\n",
    "    \n",
    "    # OLayer\n",
    "    tf.keras.layers.Dense(4, activation='softmax')\n",
    "])\n",
    "\n",
    "\n",
    "\n",
    "model.summary()\n",
    "\n",
    "model.compile(loss = 'categorical_crossentropy', \n",
    "              optimizer='adam', \n",
    "              metrics=['accuracy'])\n",
    "\n",
    "tensorboard = TensorBoard(log_dir=\"./logs/{}\".format(time()), \n",
    "                          histogram_freq=0, \n",
    "                          write_graph=True, \n",
    "                          write_grads=False, \n",
    "                          write_images=False, \n",
    "                          embeddings_freq=0, \n",
    "                          embeddings_layer_names=None, \n",
    "                          embeddings_metadata=None, \n",
    "                          embeddings_data=None, \n",
    "                          update_freq='epoch')\n",
    "\n",
    "history = model.fit_generator(train_generator, \n",
    "                                epochs=10, verbose = 1,\n",
    "                                validation_data = validation_generator,\n",
    "                                callbacks = [tensorboard])\n",
    "\n"
   ]
  },
  {
   "cell_type": "code",
   "execution_count": null,
   "metadata": {},
   "outputs": [],
   "source": [
    "model.save(\"cotton_disease{}.h5\".format(time()))"
   ]
  },
  {
   "cell_type": "code",
   "execution_count": null,
   "metadata": {
    "colab": {
     "base_uri": "https://localhost:8080/",
     "height": 1000
    },
    "colab_type": "code",
    "executionInfo": {
     "elapsed": 1054482,
     "status": "ok",
     "timestamp": 1570950508357,
     "user": {
      "displayName": "Aayush Singh",
      "photoUrl": "https://lh3.googleusercontent.com/a-/AAuE7mCvX26A-zr6IC5w3o13VqG4uvMmZRioVIg7qMcuYA=s64",
      "userId": "06906145096706033527"
     },
     "user_tz": -330
    },
    "id": "f0CvuzaqMP91",
    "outputId": "d38a5fa1-acd9-4bdd-d650-5f2df3ab3c7e"
   },
   "outputs": [],
   "source": [
    "# model = tf.keras.models.Sequential([\n",
    "#     # ILayer\n",
    "#     tf.keras.layers.Conv2D(128, (3,3), activation='relu', input_shape=(300, 300, 3)),\n",
    "#     tf.keras.layers.MaxPooling2D(2, 2),\n",
    "\n",
    "#     # HLayer 1\n",
    "#     tf.keras.layers.Conv2D(128, (3,3), activation='relu'),\n",
    "#     tf.keras.layers.MaxPooling2D(2,2),\n",
    "  \n",
    "#     # HLayer 2\n",
    "#     tf.keras.layers.Conv2D(256, (3,3), activation='relu'),\n",
    "#     tf.keras.layers.MaxPooling2D(2,2),\n",
    "\n",
    "#     # HLayer 3\n",
    "#     tf.keras.layers.Conv2D(128, (3,3), activation='relu'),\n",
    "#     tf.keras.layers.MaxPooling2D(2,2),\n",
    "    \n",
    "#     # Flatten the results to feed into a DNN\n",
    "#     tf.keras.layers.Flatten(),\n",
    "#     tf.keras.layers.Dropout(0.5),\n",
    "    \n",
    "#     # 512 neuron hidden layer\n",
    "#     tf.keras.layers.Dense(512, activation='relu'),\n",
    "    \n",
    "#     # OLayer\n",
    "#     tf.keras.layers.Dense(4, activation='softmax')\n",
    "# ])\n",
    "\n",
    "\n",
    "\n",
    "# model.summary()\n",
    "\n",
    "# model.compile(loss = 'categorical_crossentropy', \n",
    "#               optimizer='rmsprop', \n",
    "#               metrics=['accuracy'])\n",
    "\n",
    "# tensorboard = TensorBoard(log_dir=\"./logs/{}\".format(time()), \n",
    "#                           histogram_freq=0, \n",
    "#                           write_graph=True, \n",
    "#                           write_grads=False, \n",
    "#                           write_images=False, \n",
    "#                           embeddings_freq=0, \n",
    "#                           embeddings_layer_names=None, \n",
    "#                           embeddings_metadata=None, \n",
    "#                           embeddings_data=None, \n",
    "#                           update_freq='epoch')\n",
    "\n",
    "# history = model.fit_generator(train_generator, \n",
    "#                                 epochs=20, verbose = 1,\n",
    "#                                 validation_data = validation_generator,\n",
    "#                                 callbacks = [tensorboard])\n",
    "\n",
    "# model.save(\"cotton_disease.h5\")"
   ]
  },
  {
   "cell_type": "code",
   "execution_count": null,
   "metadata": {},
   "outputs": [],
   "source": []
  },
  {
   "cell_type": "code",
   "execution_count": null,
   "metadata": {
    "colab": {},
    "colab_type": "code",
    "id": "JGb8jAVy--AN"
   },
   "outputs": [],
   "source": []
  },
  {
   "cell_type": "code",
   "execution_count": null,
   "metadata": {},
   "outputs": [],
   "source": []
  },
  {
   "cell_type": "code",
   "execution_count": null,
   "metadata": {},
   "outputs": [],
   "source": []
  },
  {
   "cell_type": "code",
   "execution_count": null,
   "metadata": {},
   "outputs": [],
   "source": []
  },
  {
   "cell_type": "code",
   "execution_count": 8,
   "metadata": {
    "colab": {
     "base_uri": "https://localhost:8080/",
     "height": 232
    },
    "colab_type": "code",
    "executionInfo": {
     "elapsed": 1054660,
     "status": "error",
     "timestamp": 1570950508682,
     "user": {
      "displayName": "Aayush Singh",
      "photoUrl": "https://lh3.googleusercontent.com/a-/AAuE7mCvX26A-zr6IC5w3o13VqG4uvMmZRioVIg7qMcuYA=s64",
      "userId": "06906145096706033527"
     },
     "user_tz": -330
    },
    "id": "9QYvrfNrwDp2",
    "outputId": "3b902311-c6d9-475d-b6b6-1d2da1edaf11"
   },
   "outputs": [],
   "source": [
    "# import matplotlib.pyplot as plt\n",
    "# acc = history.history['acc']\n",
    "# val_acc = history.history['val_acc']\n",
    "# loss = history.history['loss']\n",
    "# val_loss = history.history['val_loss']\n",
    "\n",
    "# epochs = range(len(acc))\n",
    "# print(acc,\"\\n\",val_acc,\"\\n\",loss,\"\\n\",val_loss)\n",
    "# plt.plot(epochs, acc, 'r', label='Training accuracy')\n",
    "# plt.plot(epochs, val_acc, 'b', label='Validation accuracy')\n",
    "# plt.title('Training and validation accuracy')\n",
    "# plt.legend(loc=0)\n",
    "# plt.figure()\n",
    "\n",
    "\n",
    "# plt.show()"
   ]
  }
 ],
 "metadata": {
  "colab": {
   "collapsed_sections": [],
   "name": "Cotton Disease.ipynb",
   "provenance": []
  },
  "kernelspec": {
   "display_name": "Python 3",
   "language": "python",
   "name": "python3"
  },
  "language_info": {
   "codemirror_mode": {
    "name": "ipython",
    "version": 3
   },
   "file_extension": ".py",
   "mimetype": "text/x-python",
   "name": "python",
   "nbconvert_exporter": "python",
   "pygments_lexer": "ipython3",
   "version": "3.7.3"
  }
 },
 "nbformat": 4,
 "nbformat_minor": 4
}
