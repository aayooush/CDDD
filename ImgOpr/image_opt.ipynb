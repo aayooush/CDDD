{
 "cells": [
  {
   "cell_type": "code",
   "execution_count": null,
   "metadata": {},
   "outputs": [],
   "source": [
    "import cv2\n",
    "import re\n",
    "import numpy as np"
   ]
  },
  {
   "cell_type": "code",
   "execution_count": 6,
   "metadata": {},
   "outputs": [],
   "source": []
  },
  {
   "cell_type": "code",
   "execution_count": 28,
   "metadata": {},
   "outputs": [],
   "source": [
    "# rotate and flip files\n",
    "import glob\n",
    "import cv2\n",
    "import os\n",
    "import re\n",
    "import random\n",
    "\n",
    "def flip(img):\n",
    "    fliped = cv2.flip( img, -1 )\n",
    "    i = random.randint(1000,2000)\n",
    "    filename = \"C:\\\\Users\\\\DEEPANSHU SONPAROTE\\\\Desktop\\\\New folder\\\\transformed\\\\healthy%i.jpg\"%i\n",
    "    cv2.imwrite(filename, fliped)\n",
    "    \n",
    "def rotate(img,angle):\n",
    "    i = random.randint(1000,2000)\n",
    "    (h, w) = img.shape[:2]\n",
    "    center = (w / 2, h / 2)\n",
    "    scale = 1.0\n",
    "    M = cv2.getRotationMatrix2D(center, angle, scale)\n",
    "    rotated = cv2.warpAffine(img, M, (h, w))\n",
    "    filename = \"C:\\\\Users\\\\DEEPANSHU SONPAROTE\\\\Desktop\\\\New folder\\\\transformed\\\\healthy%i.jpg\"%i\n",
    "    cv2.imwrite(filename, rotated)\n",
    "    \n",
    "imgnames = sorted(glob.glob(\"C:\\\\Users\\\\DEEPANSHU SONPAROTE\\\\Desktop\\\\New folder\\\\MV\\\\*.jpg\"))\n",
    "for p in imgnames:\n",
    "    img = cv2.imread(p)\n",
    "    img = cv2.resize(img,(300, 300), interpolation = cv2.INTER_CUBIC)    \n",
    "    rotate(img,90)\n",
    "    rotate(img,180)\n",
    "    rotate(img,270)\n",
    "    flip(img)\n",
    "\n"
   ]
  },
  {
   "cell_type": "code",
   "execution_count": null,
   "metadata": {},
   "outputs": [],
   "source": []
  },
  {
   "cell_type": "code",
   "execution_count": null,
   "metadata": {},
   "outputs": [],
   "source": []
  },
  {
   "cell_type": "code",
   "execution_count": null,
   "metadata": {},
   "outputs": [],
   "source": []
  },
  {
   "cell_type": "code",
   "execution_count": null,
   "metadata": {},
   "outputs": [],
   "source": []
  },
  {
   "cell_type": "code",
   "execution_count": 47,
   "metadata": {},
   "outputs": [],
   "source": [
    "#run this to re\n",
    "import os\n",
    "import re\n",
    "path = 'C:\\\\Users\\\\DEEPANSHU SONPAROTE\\\\Desktop\\\\New folder\\\\MV\\\\'\n",
    "Mosaic_Virus = []\n",
    "Mosaic_Virus_l = []\n",
    "i = 0\n",
    "for file in os.listdir(path):\n",
    "        img = cv2.imread(file)\n",
    "        i = i+1\n",
    "        name=file.split(sep='.')\n",
    "        print(re.findall(\"[0-9]\", name[0]))\n",
    "        k = re.search(\"[0-9]\", name[0])\n",
    "        name=file.split(sep=name[0][k.start()])\n",
    "        cv2.imwrite(name[0]+str(i)+'.jpg',img)\n",
    "\n",
    "        if 'Mosaic_Virus' in name[0]:\n",
    "            Mosaic_Virus.append(path+file)\n",
    "            Mosaic_Virus_l.append(1)\n",
    "            \n",
    "        elif 'mosaic_virus' in name[0]:\n",
    "            Mosaic_Virus.append(path+file)\n",
    "            Mosaic_Virus_l.append(1)\n",
    "\n",
    "print(Mosaic_Virus_l)"
   ]
  },
  {
   "cell_type": "code",
   "execution_count": 1,
   "metadata": {},
   "outputs": [],
   "source": [
    "#run this to rename file\n",
    "import glob\n",
    "import cv2\n",
    "import os\n",
    "import re\n",
    "i = 0\n",
    "imgnames = sorted(glob.glob(\"C:\\\\Users\\\\DEEPANSHU SONPAROTE\\\\Desktop\\\\New folder\\\\MV\\\\*.jpg\"))\n",
    "for p in imgnames:\n",
    "    img = cv2.imread(p)\n",
    "    print(\"    Status: %s / %s\" %(p, len(imgnames)), end=\"\\r\")\n",
    "    filename = \"C:\\\\Users\\\\DEEPANSHU SONPAROTE\\\\Desktop\\\\New folder\\\\MV\\\\lalya%i.jpg\"%i\n",
    "    cv2.imwrite(filename, img)\n",
    "    i = i+1\n"
   ]
  },
  {
   "cell_type": "code",
   "execution_count": null,
   "metadata": {},
   "outputs": [],
   "source": [
    "\n",
    "\n",
    "\n",
    "\n",
    "\n",
    "\n"
   ]
  },
  {
   "cell_type": "code",
   "execution_count": null,
   "metadata": {},
   "outputs": [],
   "source": []
  },
  {
   "cell_type": "code",
   "execution_count": null,
   "metadata": {},
   "outputs": [],
   "source": []
  }
 ],
 "metadata": {
  "kernelspec": {
   "display_name": "Python 3",
   "language": "python",
   "name": "python3"
  },
  "language_info": {
   "codemirror_mode": {
    "name": "ipython",
    "version": 3
   },
   "file_extension": ".py",
   "mimetype": "text/x-python",
   "name": "python",
   "nbconvert_exporter": "python",
   "pygments_lexer": "ipython3",
   "version": "3.6.4"
  }
 },
 "nbformat": 4,
 "nbformat_minor": 2
}
